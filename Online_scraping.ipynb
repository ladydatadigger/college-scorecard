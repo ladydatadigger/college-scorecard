{
 "cells": [
  {
   "cell_type": "code",
   "execution_count": 1,
   "metadata": {},
   "outputs": [],
   "source": [
    "import pandas as pd"
   ]
  },
  {
   "cell_type": "code",
   "execution_count": 2,
   "metadata": {},
   "outputs": [],
   "source": [
    "url = 'https://www.guidetoonlineschools.com/online-schools?f_show=all'"
   ]
  },
  {
   "cell_type": "code",
   "execution_count": 3,
   "metadata": {},
   "outputs": [],
   "source": [
    "tables = pd.read_html(url)\n",
    "tables\n",
    "upper_df=pd.Series"
   ]
  },
  {
   "cell_type": "code",
   "execution_count": 4,
   "metadata": {},
   "outputs": [
    {
     "data": {
      "text/plain": [
       "11"
      ]
     },
     "execution_count": 4,
     "metadata": {},
     "output_type": "execute_result"
    }
   ],
   "source": [
    "len(tables)"
   ]
  },
  {
   "cell_type": "code",
   "execution_count": 5,
   "metadata": {},
   "outputs": [
    {
     "data": {
      "text/plain": [
       "list"
      ]
     },
     "execution_count": 5,
     "metadata": {},
     "output_type": "execute_result"
    }
   ],
   "source": [
    "type(tables)"
   ]
  },
  {
   "cell_type": "code",
   "execution_count": 6,
   "metadata": {},
   "outputs": [
    {
     "data": {
      "text/html": [
       "<div>\n",
       "<style scoped>\n",
       "    .dataframe tbody tr th:only-of-type {\n",
       "        vertical-align: middle;\n",
       "    }\n",
       "\n",
       "    .dataframe tbody tr th {\n",
       "        vertical-align: top;\n",
       "    }\n",
       "\n",
       "    .dataframe thead th {\n",
       "        text-align: right;\n",
       "    }\n",
       "</style>\n",
       "<table border=\"1\" class=\"dataframe\">\n",
       "  <thead>\n",
       "    <tr style=\"text-align: right;\">\n",
       "      <th></th>\n",
       "      <th>School</th>\n",
       "      <th>Annual Tuition</th>\n",
       "      <th>Recommend Rate</th>\n",
       "    </tr>\n",
       "  </thead>\n",
       "  <tbody>\n",
       "    <tr>\n",
       "      <th>0</th>\n",
       "      <td>Abilene Christian University</td>\n",
       "      <td>$33,330</td>\n",
       "      <td>100% (6 reviews)</td>\n",
       "    </tr>\n",
       "    <tr>\n",
       "      <th>1</th>\n",
       "      <td>Abraham Lincoln University</td>\n",
       "      <td>$7,500</td>\n",
       "      <td>100% (2 reviews)</td>\n",
       "    </tr>\n",
       "    <tr>\n",
       "      <th>2</th>\n",
       "      <td>Adams State University</td>\n",
       "      <td>$20,456</td>\n",
       "      <td>50% (2 reviews)</td>\n",
       "    </tr>\n",
       "    <tr>\n",
       "      <th>3</th>\n",
       "      <td>Adelphi University</td>\n",
       "      <td>$37,170</td>\n",
       "      <td>Add Review</td>\n",
       "    </tr>\n",
       "    <tr>\n",
       "      <th>4</th>\n",
       "      <td>Alvernia University</td>\n",
       "      <td>$33,640</td>\n",
       "      <td>Add Review</td>\n",
       "    </tr>\n",
       "  </tbody>\n",
       "</table>\n",
       "</div>"
      ],
      "text/plain": [
       "                         School Annual Tuition    Recommend Rate\n",
       "0  Abilene Christian University        $33,330  100% (6 reviews)\n",
       "1    Abraham Lincoln University         $7,500  100% (2 reviews)\n",
       "2        Adams State University        $20,456   50% (2 reviews)\n",
       "3            Adelphi University        $37,170        Add Review\n",
       "4           Alvernia University        $33,640        Add Review"
      ]
     },
     "execution_count": 6,
     "metadata": {},
     "output_type": "execute_result"
    }
   ],
   "source": [
    "df = tables[4]\n",
    "#df.columns = ['School', 'Annual Tuition', 'Recommend Rate']\n",
    "df.head()"
   ]
  },
  {
   "cell_type": "code",
   "execution_count": 7,
   "metadata": {},
   "outputs": [
    {
     "data": {
      "text/html": [
       "<div>\n",
       "<style scoped>\n",
       "    .dataframe tbody tr th:only-of-type {\n",
       "        vertical-align: middle;\n",
       "    }\n",
       "\n",
       "    .dataframe tbody tr th {\n",
       "        vertical-align: top;\n",
       "    }\n",
       "\n",
       "    .dataframe thead th {\n",
       "        text-align: right;\n",
       "    }\n",
       "</style>\n",
       "<table border=\"1\" class=\"dataframe\">\n",
       "  <thead>\n",
       "    <tr style=\"text-align: right;\">\n",
       "      <th></th>\n",
       "      <th>School</th>\n",
       "      <th>Annual Tuition</th>\n",
       "      <th>Recommend Rate</th>\n",
       "    </tr>\n",
       "  </thead>\n",
       "  <tbody>\n",
       "    <tr>\n",
       "      <th>0</th>\n",
       "      <td>AbileneChristianUniversity</td>\n",
       "      <td>$33,330</td>\n",
       "      <td>100%(6reviews)</td>\n",
       "    </tr>\n",
       "    <tr>\n",
       "      <th>1</th>\n",
       "      <td>AbrahamLincolnUniversity</td>\n",
       "      <td>$7,500</td>\n",
       "      <td>100%(2reviews)</td>\n",
       "    </tr>\n",
       "    <tr>\n",
       "      <th>2</th>\n",
       "      <td>AdamsStateUniversity</td>\n",
       "      <td>$20,456</td>\n",
       "      <td>50%(2reviews)</td>\n",
       "    </tr>\n",
       "    <tr>\n",
       "      <th>3</th>\n",
       "      <td>AdelphiUniversity</td>\n",
       "      <td>$37,170</td>\n",
       "      <td>AddReview</td>\n",
       "    </tr>\n",
       "    <tr>\n",
       "      <th>4</th>\n",
       "      <td>AlverniaUniversity</td>\n",
       "      <td>$33,640</td>\n",
       "      <td>AddReview</td>\n",
       "    </tr>\n",
       "  </tbody>\n",
       "</table>\n",
       "</div>"
      ],
      "text/plain": [
       "                       School Annual Tuition  Recommend Rate\n",
       "0  AbileneChristianUniversity        $33,330  100%(6reviews)\n",
       "1    AbrahamLincolnUniversity         $7,500  100%(2reviews)\n",
       "2        AdamsStateUniversity        $20,456   50%(2reviews)\n",
       "3           AdelphiUniversity        $37,170       AddReview\n",
       "4          AlverniaUniversity        $33,640       AddReview"
      ]
     },
     "execution_count": 7,
     "metadata": {},
     "output_type": "execute_result"
    }
   ],
   "source": [
    "strip_df = df.columns\n",
    "strip2_df= df[strip_df].replace({' ':''}, regex = True)\n",
    "strip2_df.head()\n",
    "\n"
   ]
  },
  {
   "cell_type": "code",
   "execution_count": 8,
   "metadata": {},
   "outputs": [
    {
     "data": {
      "text/html": [
       "<div>\n",
       "<style scoped>\n",
       "    .dataframe tbody tr th:only-of-type {\n",
       "        vertical-align: middle;\n",
       "    }\n",
       "\n",
       "    .dataframe tbody tr th {\n",
       "        vertical-align: top;\n",
       "    }\n",
       "\n",
       "    .dataframe thead th {\n",
       "        text-align: right;\n",
       "    }\n",
       "</style>\n",
       "<table border=\"1\" class=\"dataframe\">\n",
       "  <thead>\n",
       "    <tr style=\"text-align: right;\">\n",
       "      <th></th>\n",
       "      <th>School</th>\n",
       "      <th>Annual Tuition</th>\n",
       "      <th>Recommend Rate</th>\n",
       "    </tr>\n",
       "  </thead>\n",
       "  <tbody>\n",
       "    <tr>\n",
       "      <th>0</th>\n",
       "      <td>ABILENECHRISTIANUNIVERSITY</td>\n",
       "      <td>$33,330</td>\n",
       "      <td>100%(6reviews)</td>\n",
       "    </tr>\n",
       "    <tr>\n",
       "      <th>1</th>\n",
       "      <td>ABRAHAMLINCOLNUNIVERSITY</td>\n",
       "      <td>$7,500</td>\n",
       "      <td>100%(2reviews)</td>\n",
       "    </tr>\n",
       "    <tr>\n",
       "      <th>2</th>\n",
       "      <td>ADAMSSTATEUNIVERSITY</td>\n",
       "      <td>$20,456</td>\n",
       "      <td>50%(2reviews)</td>\n",
       "    </tr>\n",
       "    <tr>\n",
       "      <th>3</th>\n",
       "      <td>ADELPHIUNIVERSITY</td>\n",
       "      <td>$37,170</td>\n",
       "      <td>AddReview</td>\n",
       "    </tr>\n",
       "    <tr>\n",
       "      <th>4</th>\n",
       "      <td>ALVERNIAUNIVERSITY</td>\n",
       "      <td>$33,640</td>\n",
       "      <td>AddReview</td>\n",
       "    </tr>\n",
       "  </tbody>\n",
       "</table>\n",
       "</div>"
      ],
      "text/plain": [
       "                       School Annual Tuition  Recommend Rate\n",
       "0  ABILENECHRISTIANUNIVERSITY        $33,330  100%(6reviews)\n",
       "1    ABRAHAMLINCOLNUNIVERSITY         $7,500  100%(2reviews)\n",
       "2        ADAMSSTATEUNIVERSITY        $20,456   50%(2reviews)\n",
       "3           ADELPHIUNIVERSITY        $37,170       AddReview\n",
       "4          ALVERNIAUNIVERSITY        $33,640       AddReview"
      ]
     },
     "execution_count": 8,
     "metadata": {},
     "output_type": "execute_result"
    }
   ],
   "source": [
    "strip2_df[\"School\"]=strip2_df[\"School\"].apply(str.upper)\n",
    "strip2_df.head()"
   ]
  },
  {
   "cell_type": "code",
   "execution_count": 9,
   "metadata": {},
   "outputs": [
    {
     "data": {
      "text/html": [
       "<div>\n",
       "<style scoped>\n",
       "    .dataframe tbody tr th:only-of-type {\n",
       "        vertical-align: middle;\n",
       "    }\n",
       "\n",
       "    .dataframe tbody tr th {\n",
       "        vertical-align: top;\n",
       "    }\n",
       "\n",
       "    .dataframe thead th {\n",
       "        text-align: right;\n",
       "    }\n",
       "</style>\n",
       "<table border=\"1\" class=\"dataframe\">\n",
       "  <thead>\n",
       "    <tr style=\"text-align: right;\">\n",
       "      <th></th>\n",
       "      <th>School</th>\n",
       "    </tr>\n",
       "  </thead>\n",
       "  <tbody>\n",
       "    <tr>\n",
       "      <th>0</th>\n",
       "      <td>ABILENECHRISTIANUNIVERSITY</td>\n",
       "    </tr>\n",
       "    <tr>\n",
       "      <th>1</th>\n",
       "      <td>ABRAHAMLINCOLNUNIVERSITY</td>\n",
       "    </tr>\n",
       "    <tr>\n",
       "      <th>2</th>\n",
       "      <td>ADAMSSTATEUNIVERSITY</td>\n",
       "    </tr>\n",
       "    <tr>\n",
       "      <th>3</th>\n",
       "      <td>ADELPHIUNIVERSITY</td>\n",
       "    </tr>\n",
       "    <tr>\n",
       "      <th>4</th>\n",
       "      <td>ALVERNIAUNIVERSITY</td>\n",
       "    </tr>\n",
       "  </tbody>\n",
       "</table>\n",
       "</div>"
      ],
      "text/plain": [
       "                       School\n",
       "0  ABILENECHRISTIANUNIVERSITY\n",
       "1    ABRAHAMLINCOLNUNIVERSITY\n",
       "2        ADAMSSTATEUNIVERSITY\n",
       "3           ADELPHIUNIVERSITY\n",
       "4          ALVERNIAUNIVERSITY"
      ]
     },
     "execution_count": 9,
     "metadata": {},
     "output_type": "execute_result"
    }
   ],
   "source": [
    "online_schools_df = strip2_df.drop(columns =[\"Annual Tuition\", \"Recommend Rate\"])\n",
    "online_schools_df.head()"
   ]
  },
  {
   "cell_type": "code",
   "execution_count": 10,
   "metadata": {},
   "outputs": [],
   "source": [
    "online_schools_df['School'] =online_schools_df['School'].str.replace(\"&\",\"\")\n"
   ]
  },
  {
   "cell_type": "code",
   "execution_count": 11,
   "metadata": {},
   "outputs": [],
   "source": [
    "online_schools_df['School'] =online_schools_df['School'].str.replace(\"-\",\"\")"
   ]
  },
  {
   "cell_type": "code",
   "execution_count": 12,
   "metadata": {},
   "outputs": [
    {
     "data": {
      "text/html": [
       "<div>\n",
       "<style scoped>\n",
       "    .dataframe tbody tr th:only-of-type {\n",
       "        vertical-align: middle;\n",
       "    }\n",
       "\n",
       "    .dataframe tbody tr th {\n",
       "        vertical-align: top;\n",
       "    }\n",
       "\n",
       "    .dataframe thead th {\n",
       "        text-align: right;\n",
       "    }\n",
       "</style>\n",
       "<table border=\"1\" class=\"dataframe\">\n",
       "  <thead>\n",
       "    <tr style=\"text-align: right;\">\n",
       "      <th></th>\n",
       "      <th>School</th>\n",
       "      <th>Online</th>\n",
       "    </tr>\n",
       "  </thead>\n",
       "  <tbody>\n",
       "    <tr>\n",
       "      <th>0</th>\n",
       "      <td>ABILENECHRISTIANUNIVERSITY</td>\n",
       "      <td>TRUE</td>\n",
       "    </tr>\n",
       "    <tr>\n",
       "      <th>1</th>\n",
       "      <td>ABRAHAMLINCOLNUNIVERSITY</td>\n",
       "      <td>TRUE</td>\n",
       "    </tr>\n",
       "    <tr>\n",
       "      <th>2</th>\n",
       "      <td>ADAMSSTATEUNIVERSITY</td>\n",
       "      <td>TRUE</td>\n",
       "    </tr>\n",
       "    <tr>\n",
       "      <th>3</th>\n",
       "      <td>ADELPHIUNIVERSITY</td>\n",
       "      <td>TRUE</td>\n",
       "    </tr>\n",
       "    <tr>\n",
       "      <th>4</th>\n",
       "      <td>ALVERNIAUNIVERSITY</td>\n",
       "      <td>TRUE</td>\n",
       "    </tr>\n",
       "  </tbody>\n",
       "</table>\n",
       "</div>"
      ],
      "text/plain": [
       "                       School Online\n",
       "0  ABILENECHRISTIANUNIVERSITY   TRUE\n",
       "1    ABRAHAMLINCOLNUNIVERSITY   TRUE\n",
       "2        ADAMSSTATEUNIVERSITY   TRUE\n",
       "3           ADELPHIUNIVERSITY   TRUE\n",
       "4          ALVERNIAUNIVERSITY   TRUE"
      ]
     },
     "execution_count": 12,
     "metadata": {},
     "output_type": "execute_result"
    }
   ],
   "source": [
    "online_schools_df['Online'] = \"TRUE\"\n",
    "online_schools_df.head()"
   ]
  },
  {
   "cell_type": "code",
   "execution_count": 13,
   "metadata": {},
   "outputs": [
    {
     "data": {
      "text/html": [
       "<div>\n",
       "<style scoped>\n",
       "    .dataframe tbody tr th:only-of-type {\n",
       "        vertical-align: middle;\n",
       "    }\n",
       "\n",
       "    .dataframe tbody tr th {\n",
       "        vertical-align: top;\n",
       "    }\n",
       "\n",
       "    .dataframe thead th {\n",
       "        text-align: right;\n",
       "    }\n",
       "</style>\n",
       "<table border=\"1\" class=\"dataframe\">\n",
       "  <thead>\n",
       "    <tr style=\"text-align: right;\">\n",
       "      <th></th>\n",
       "      <th>Online</th>\n",
       "    </tr>\n",
       "    <tr>\n",
       "      <th>School</th>\n",
       "      <th></th>\n",
       "    </tr>\n",
       "  </thead>\n",
       "  <tbody>\n",
       "    <tr>\n",
       "      <th>ABILENECHRISTIANUNIVERSITY</th>\n",
       "      <td>TRUE</td>\n",
       "    </tr>\n",
       "    <tr>\n",
       "      <th>ABRAHAMLINCOLNUNIVERSITY</th>\n",
       "      <td>TRUE</td>\n",
       "    </tr>\n",
       "    <tr>\n",
       "      <th>ADAMSSTATEUNIVERSITY</th>\n",
       "      <td>TRUE</td>\n",
       "    </tr>\n",
       "    <tr>\n",
       "      <th>ADELPHIUNIVERSITY</th>\n",
       "      <td>TRUE</td>\n",
       "    </tr>\n",
       "    <tr>\n",
       "      <th>ALVERNIAUNIVERSITY</th>\n",
       "      <td>TRUE</td>\n",
       "    </tr>\n",
       "  </tbody>\n",
       "</table>\n",
       "</div>"
      ],
      "text/plain": [
       "                           Online\n",
       "School                           \n",
       "ABILENECHRISTIANUNIVERSITY   TRUE\n",
       "ABRAHAMLINCOLNUNIVERSITY     TRUE\n",
       "ADAMSSTATEUNIVERSITY         TRUE\n",
       "ADELPHIUNIVERSITY            TRUE\n",
       "ALVERNIAUNIVERSITY           TRUE"
      ]
     },
     "execution_count": 13,
     "metadata": {},
     "output_type": "execute_result"
    }
   ],
   "source": [
    "online_schools_df.set_index('School',inplace=True)\n",
    "online_schools_df.head()"
   ]
  },
  {
   "cell_type": "code",
   "execution_count": 14,
   "metadata": {},
   "outputs": [],
   "source": [
    "online_schools_df.to_csv('Resources/Online-schools.csv')"
   ]
  },
  {
   "cell_type": "code",
   "execution_count": 15,
   "metadata": {},
   "outputs": [
    {
     "name": "stdout",
     "output_type": "stream",
     "text": [
      "                                               Online\n",
      "School                                               \n",
      "ABILENECHRISTIANUNIVERSITY                       TRUE\n",
      "ABRAHAMLINCOLNUNIVERSITY                         TRUE\n",
      "ADAMSSTATEUNIVERSITY                             TRUE\n",
      "ADELPHIUNIVERSITY                                TRUE\n",
      "ALVERNIAUNIVERSITY                               TRUE\n",
      "AMERICANINTERCONTINENTALUNIVERSITY               TRUE\n",
      "AMERICANINTERNATIONALCOLLEGE                     TRUE\n",
      "AMERICANNATIONALUNIVERSITY                       TRUE\n",
      "AMERICANPUBLICUNIVERSITYSYSTEM                   TRUE\n",
      "AMERICANUNIVERSITY                               TRUE\n",
      "AMERICANUNIVERSITYMBA                            TRUE\n",
      "ANDERSONUNIVERSITYSC                             TRUE\n",
      "ANGELOSTATEUNIVERSITY                            TRUE\n",
      "ANNAMARIACOLLEGE                                 TRUE\n",
      "ANTIOCHUNIVERSITYONLINE                          TRUE\n",
      "APPALACHIANSTATEUNIVERSITY                       TRUE\n",
      "ARCADIAUNIVERSITY                                TRUE\n",
      "ARIZONASTATEUNIVERSITY                           TRUE\n",
      "ARKANSASSTATEUNIVERSITY                          TRUE\n",
      "ASHFORDUNIVERSITY                                TRUE\n",
      "AUBURNUNIVERSITY                                 TRUE\n",
      "AUGUSTANAUNIVERSITYSD                            TRUE\n",
      "AUSTINPEAYSTATEUNIVERSITY                        TRUE\n",
      "BAKERCOLLEGEONLINE                               TRUE\n",
      "BALLSTATEUNIVERSITY                              TRUE\n",
      "THEBAPTISTCOLLEGEOFFLORIDA                       TRUE\n",
      "BARRYUNIVERSITY                                  TRUE\n",
      "BAYLORUNIVERSITY                                 TRUE\n",
      "BELLEVUEUNIVERSITY                               TRUE\n",
      "BENEDICTINEUNIVERSITY                            TRUE\n",
      "...                                               ...\n",
      "VIRGINIAPOLYTECHNICINSTITUTEANDSTATEUNIVERSITY   TRUE\n",
      "VITERBOUNIVERSITY                                TRUE\n",
      "WALDENUNIVERSITY                                 TRUE\n",
      "WALDORFUNIVERSITY                                TRUE\n",
      "WALSHUNIVERSITY                                  TRUE\n",
      "WARNERUNIVERSITY                                 TRUE\n",
      "WASHINGTONSTATEUNIVERSITY                        TRUE\n",
      "WAYLANDBAPTISTUNIVERSITY                         TRUE\n",
      "WAYNESTATEUNIVERSITY                             TRUE\n",
      "WEBSTERUNIVERSITY                                TRUE\n",
      "WESTCOASTUNIVERSITY                              TRUE\n",
      "WESTTEXASAMUNIVERSITY                            TRUE\n",
      "WESTVIRGINIAUNIVERSITY                           TRUE\n",
      "WESTERNCAROLINAUNIVERSITY                        TRUE\n",
      "WESTERNGOVERNORSUNIVERSITY                       TRUE\n",
      "WESTERNILLINOISUNIVERSITY                        TRUE\n",
      "WESTERNKENTUCKYUNIVERSITY                        TRUE\n",
      "WESTERNMICHIGANUNIVERSITY                        TRUE\n",
      "WESTERNNEWENGLANDUNIVERSITY                      TRUE\n",
      "WESTERNWASHINGTONUNIVERSITY                      TRUE\n",
      "WHEELINGJESUITUNIVERSITY                         TRUE\n",
      "WICHITASTATEUNIVERSITY                           TRUE\n",
      "WIDENERUNIVERSITY                                TRUE\n",
      "WILKESUNIVERSITY                                 TRUE\n",
      "WILLIAMCAREYUNIVERSITY                           TRUE\n",
      "WILLIAMWOODSUNIVERSITY                           TRUE\n",
      "WINTHROPUNIVERSITY                               TRUE\n",
      "WRIGHTSTATEUNIVERSITYMAINCAMPUS                  TRUE\n",
      "YORKCOLLEGE                                      TRUE\n",
      "YOUNGSTOWNSTATEUNIVERSITY                        TRUE\n",
      "\n",
      "[567 rows x 1 columns]\n"
     ]
    }
   ],
   "source": [
    "print(online_schools_df)"
   ]
  },
  {
   "cell_type": "code",
   "execution_count": 16,
   "metadata": {},
   "outputs": [
    {
     "data": {
      "text/plain": [
       "Online    567\n",
       "dtype: int64"
      ]
     },
     "execution_count": 16,
     "metadata": {},
     "output_type": "execute_result"
    }
   ],
   "source": [
    "online_schools_df.count()"
   ]
  },
  {
   "cell_type": "code",
   "execution_count": null,
   "metadata": {},
   "outputs": [],
   "source": []
  }
 ],
 "metadata": {
  "kernelspec": {
   "display_name": "Python 3",
   "language": "python",
   "name": "python3"
  },
  "language_info": {
   "codemirror_mode": {
    "name": "ipython",
    "version": 3
   },
   "file_extension": ".py",
   "mimetype": "text/x-python",
   "name": "python",
   "nbconvert_exporter": "python",
   "pygments_lexer": "ipython3",
   "version": "3.6.8"
  }
 },
 "nbformat": 4,
 "nbformat_minor": 2
}
